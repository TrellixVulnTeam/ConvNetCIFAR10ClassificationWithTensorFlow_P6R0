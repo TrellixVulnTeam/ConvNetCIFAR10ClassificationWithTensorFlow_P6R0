{
 "cells": [
  {
   "cell_type": "markdown",
   "metadata": {
    "collapsed": true,
    "deletable": true,
    "editable": true
   },
   "source": [
    "# Image Classification\n",
    "In this project, you'll classify images from the [CIFAR-10 dataset](https://www.cs.toronto.edu/~kriz/cifar.html).  The dataset consists of airplanes, dogs, cats, and other objects. You'll preprocess the images, then train a convolutional neural network on all the samples. The images need to be normalized and the labels need to be one-hot encoded.  You'll get to apply what you learned and build a convolutional, max pooling, dropout, and fully connected layers.  At the end, you'll get to see your neural network's predictions on the sample images.\n",
    "## Get the Data\n",
    "Run the following cell to download the [CIFAR-10 dataset for python](https://www.cs.toronto.edu/~kriz/cifar-10-python.tar.gz)."
   ]
  },
  {
   "cell_type": "code",
   "execution_count": 36,
   "metadata": {
    "collapsed": false,
    "deletable": true,
    "editable": true
   },
   "outputs": [
    {
     "name": "stdout",
     "output_type": "stream",
     "text": [
      "All files found!\n"
     ]
    }
   ],
   "source": [
    "\"\"\"\n",
    "DON'T MODIFY ANYTHING IN THIS CELL THAT IS BELOW THIS LINE\n",
    "\"\"\"\n",
    "from urllib.request import urlretrieve\n",
    "from os.path import isfile, isdir\n",
    "from tqdm import tqdm\n",
    "import problem_unittests as tests\n",
    "import tarfile\n",
    "\n",
    "cifar10_dataset_folder_path = 'cifar-10-batches-py'\n",
    "\n",
    "class DLProgress(tqdm):\n",
    "    last_block = 0\n",
    "\n",
    "    def hook(self, block_num=1, block_size=1, total_size=None):\n",
    "        self.total = total_size\n",
    "        self.update((block_num - self.last_block) * block_size)\n",
    "        self.last_block = block_num\n",
    "\n",
    "if not isfile('cifar-10-python.tar.gz'):\n",
    "    with DLProgress(unit='B', unit_scale=True, miniters=1, desc='CIFAR-10 Dataset') as pbar:\n",
    "        urlretrieve(\n",
    "            'https://www.cs.toronto.edu/~kriz/cifar-10-python.tar.gz',\n",
    "            'cifar-10-python.tar.gz',\n",
    "            pbar.hook)\n",
    "\n",
    "if not isdir(cifar10_dataset_folder_path):\n",
    "    with tarfile.open('cifar-10-python.tar.gz') as tar:\n",
    "        tar.extractall()\n",
    "        tar.close()\n",
    "\n",
    "\n",
    "tests.test_folder_path(cifar10_dataset_folder_path)"
   ]
  },
  {
   "cell_type": "markdown",
   "metadata": {
    "deletable": true,
    "editable": true
   },
   "source": [
    "## Explore the Data\n",
    "The dataset is broken into batches to prevent your machine from running out of memory.  The CIFAR-10 dataset consists of 5 batches, named `data_batch_1`, `data_batch_2`, etc.. Each batch contains the labels and images that are one of the following:\n",
    "* airplane\n",
    "* automobile\n",
    "* bird\n",
    "* cat\n",
    "* deer\n",
    "* dog\n",
    "* frog\n",
    "* horse\n",
    "* ship\n",
    "* truck\n",
    "\n",
    "Understanding a dataset is part of making predictions on the data.  Play around with the code cell below by changing the `batch_id` and `sample_id`. The `batch_id` is the id for a batch (1-5). The `sample_id` is the id for a image and label pair in the batch.\n",
    "\n",
    "Ask yourself \"What are all possible labels?\", \"What is the range of values for the image data?\", \"Are the labels in order or random?\".  Answers to questions like these will help you preprocess the data and end up with better predictions."
   ]
  },
  {
   "cell_type": "code",
   "execution_count": 37,
   "metadata": {
    "collapsed": false,
    "deletable": true,
    "editable": true
   },
   "outputs": [
    {
     "name": "stdout",
     "output_type": "stream",
     "text": [
      "\n",
      "Stats of batch 2:\n",
      "Samples: 10000\n",
      "Label Counts: {0: 984, 1: 1007, 2: 1010, 3: 995, 4: 1010, 5: 988, 6: 1008, 7: 1026, 8: 987, 9: 985}\n",
      "First 20 Labels: [1, 6, 6, 8, 8, 3, 4, 6, 0, 6, 0, 3, 6, 6, 5, 4, 8, 3, 2, 6]\n",
      "\n",
      "Example of Image 50:\n",
      "Image - Min Value: 23 Max Value: 244\n",
      "Image - Shape: (32, 32, 3)\n",
      "Label - Label Id: 0 Name: airplane\n"
     ]
    },
    {
     "data": {
      "image/png": "[encoded data removed]",
      "text/plain": [
       "<matplotlib.figure.Figure at 0x7f907858c5f8>"
      ]
     },
     "metadata": {
      "image/png": {
       "height": 250,
       "width": 253
      }
     },
     "output_type": "display_data"
    }
   ],
   "source": [
    "%matplotlib inline\n",
    "%config InlineBackend.figure_format = 'retina'\n",
    "\n",
    "import helper\n",
    "import numpy as np\n",
    "\n",
    "# Explore the dataset\n",
    "batch_id = 2\n",
    "sample_id = 50\n",
    "helper.display_stats(cifar10_dataset_folder_path, batch_id, sample_id)"
   ]
  },
  {
   "cell_type": "markdown",
   "metadata": {
    "deletable": true,
    "editable": true
   },
   "source": [
    "## Implement Preprocess Functions\n",
    "### Normalize\n",
    "In the cell below, implement the `normalize` function to take in image data, `x`, and return it as a normalized Numpy array. The values should be in the range of 0 to 1, inclusive.  The return object should be the same shape as `x`."
   ]
  },
  {
   "cell_type": "code",
   "execution_count": 38,
   "metadata": {
    "collapsed": false,
    "deletable": true,
    "editable": true
   },
   "outputs": [
    {
     "name": "stdout",
     "output_type": "stream",
     "text": [
      "Tests Passed\n"
     ]
    }
   ],
   "source": [
    "def normalize(x):\n",
    "    \"\"\"\n",
    "    Normalize a list of sample image data in the range of 0 to 1\n",
    "    : x: List of image data.  The image shape is (32, 32, 3)\n",
    "    : return: Numpy array of normalize data\n",
    "    \"\"\"\n",
    "    return x/255\n",
    "\n",
    "\n",
    "\"\"\"\n",
    "DON'T MODIFY ANYTHING IN THIS CELL THAT IS BELOW THIS LINE\n",
    "\"\"\"\n",
    "tests.test_normalize(normalize)"
   ]
  },
  {
   "cell_type": "markdown",
   "metadata": {
    "deletable": true,
    "editable": true
   },
   "source": [
    "### One-hot encode\n",
    "Just like the previous code cell, you'll be implementing a function for preprocessing.  This time, you'll implement the `one_hot_encode` function. The input, `x`, are a list of labels.  Implement the function to return the list of labels as One-Hot encoded Numpy array.  The possible values for labels are 0 to 9. The one-hot encoding function should return the same encoding for each value between each call to `one_hot_encode`.  Make sure to save the map of encodings outside the function.\n",
    "\n",
    "Hint: Don't reinvent the wheel."
   ]
  },
  {
   "cell_type": "code",
   "execution_count": 39,
   "metadata": {
    "collapsed": false,
    "deletable": true,
    "editable": true
   },
   "outputs": [
    {
     "name": "stdout",
     "output_type": "stream",
     "text": [
      "Tests Passed\n"
     ]
    }
   ],
   "source": [
    "import numpy as np\n",
    "from sklearn import preprocessing\n",
    "\n",
    "\n",
    "def one_hot_encode(x):\n",
    "    \"\"\"\n",
    "    One hot encode a list of sample labels. Return a one-hot encoded vector for each label.\n",
    "    : x: List of sample Labels\n",
    "    : return: Numpy array of one-hot encoded labels\n",
    "    \"\"\"\n",
    "    one_hot_encode_label_binarizer = preprocessing.LabelBinarizer()\n",
    "    one_hot_encode_label_binarizer.fit(range(10))\n",
    "    return one_hot_encode_label_binarizer.transform(x)\n",
    "\n",
    "\n",
    "\"\"\"\n",
    "DON'T MODIFY ANYTHING IN THIS CELL THAT IS BELOW THIS LINE\n",
    "\"\"\"\n",
    "tests.test_one_hot_encode(one_hot_encode)"
   ]
  },
  {
   "cell_type": "markdown",
   "metadata": {
    "deletable": true,
    "editable": true
   },
   "source": [
    "### Randomize Data\n",
    "As you saw from exploring the data above, the order of the samples are randomized.  It doesn't hurt to randomize it again, but you don't need to for this dataset."
   ]
  },
  {
   "cell_type": "markdown",
   "metadata": {
    "deletable": true,
    "editable": true
   },
   "source": [
    "## Preprocess all the data and save it\n",
    "Running the code cell below will preprocess all the CIFAR-10 data and save it to file. The code below also uses 10% of the training data for validation."
   ]
  },
  {
   "cell_type": "code",
   "execution_count": 40,
   "metadata": {
    "collapsed": false,
    "deletable": true,
    "editable": true
   },
   "outputs": [],
   "source": [
    "\"\"\"\n",
    "DON'T MODIFY ANYTHING IN THIS CELL\n",
    "\"\"\"\n",
    "# Preprocess Training, Validation, and Testing Data\n",
    "helper.preprocess_and_save_data(cifar10_dataset_folder_path, normalize, one_hot_encode)"
   ]
  },
  {
   "cell_type": "markdown",
   "metadata": {
    "deletable": true,
    "editable": true
   },
   "source": [
    "# Check Point\n",
    "This is your first checkpoint.  If you ever decide to come back to this notebook or have to restart the notebook, you can start from here.  The preprocessed data has been saved to disk."
   ]
  },
  {
   "cell_type": "code",
   "execution_count": 41,
   "metadata": {
    "collapsed": true,
    "deletable": true,
    "editable": true
   },
   "outputs": [],
   "source": [
    "\"\"\"\n",
    "DON'T MODIFY ANYTHING IN THIS CELL\n",
    "\"\"\"\n",
    "import pickle\n",
    "import problem_unittests as tests\n",
    "import helper\n",
    "\n",
    "# Load the Preprocessed Validation data\n",
    "valid_features, valid_labels = pickle.load(open('preprocess_validation.p', mode='rb'))"
   ]
  },
  {
   "cell_type": "markdown",
   "metadata": {
    "deletable": true,
    "editable": true
   },
   "source": [
    "## Build the network\n",
    "For the neural network, you'll build each layer into a function.  Most of the code you've seen has been outside of functions. To test your code more thoroughly, we require that you put each layer in a function.  This allows us to give you better feedback and test for simple mistakes using our unittests before you submit your project.\n",
    "\n",
    ">**Note:** If you're finding it hard to dedicate enough time for this course each week, we've provided a small shortcut to this part of the project. In the next couple of problems, you'll have the option to use classes from the [TensorFlow Layers](https://www.tensorflow.org/api_docs/python/tf/layers) or [TensorFlow Layers (contrib)](https://www.tensorflow.org/api_guides/python/contrib.layers) packages to build each layer, except the layers you build in the \"Convolutional and Max Pooling Layer\" section.  TF Layers is similar to Keras's and TFLearn's abstraction to layers, so it's easy to pickup.\n",
    "\n",
    ">However, if you would like to get the most out of this course, try to solve all the problems _without_ using anything from the TF Layers packages. You **can** still use classes from other packages that happen to have the same name as ones you find in TF Layers! For example, instead of using the TF Layers version of the `conv2d` class, [tf.layers.conv2d](https://www.tensorflow.org/api_docs/python/tf/layers/conv2d), you would want to use the TF Neural Network version of `conv2d`, [tf.nn.conv2d](https://www.tensorflow.org/api_docs/python/tf/nn/conv2d). \n",
    "\n",
    "Let's begin!\n",
    "\n",
    "### Input\n",
    "The neural network needs to read the image data, one-hot encoded labels, and dropout keep probability. Implement the following functions\n",
    "* Implement `neural_net_image_input`\n",
    " * Return a [TF Placeholder](https://www.tensorflow.org/api_docs/python/tf/placeholder)\n",
    " * Set the shape using `image_shape` with batch size set to `None`.\n",
    " * Name the TensorFlow placeholder \"x\" using the TensorFlow `name` parameter in the [TF Placeholder](https://www.tensorflow.org/api_docs/python/tf/placeholder).\n",
    "* Implement `neural_net_label_input`\n",
    " * Return a [TF Placeholder](https://www.tensorflow.org/api_docs/python/tf/placeholder)\n",
    " * Set the shape using `n_classes` with batch size set to `None`.\n",
    " * Name the TensorFlow placeholder \"y\" using the TensorFlow `name` parameter in the [TF Placeholder](https://www.tensorflow.org/api_docs/python/tf/placeholder).\n",
    "* Implement `neural_net_keep_prob_input`\n",
    " * Return a [TF Placeholder](https://www.tensorflow.org/api_docs/python/tf/placeholder) for dropout keep probability.\n",
    " * Name the TensorFlow placeholder \"keep_prob\" using the TensorFlow `name` parameter in the [TF Placeholder](https://www.tensorflow.org/api_docs/python/tf/placeholder).\n",
    "\n",
    "These names will be used at the end of the project to load your saved model.\n",
    "\n",
    "Note: `None` for shapes in TensorFlow allow for a dynamic size."
   ]
  },
  {
   "cell_type": "code",
   "execution_count": 42,
   "metadata": {
    "collapsed": false,
    "deletable": true,
    "editable": true
   },
   "outputs": [
    {
     "name": "stdout",
     "output_type": "stream",
     "text": [
      "Image Input Tests Passed.\n",
      "Label Input Tests Passed.\n",
      "Keep Prob Tests Passed.\n"
     ]
    }
   ],
   "source": [
    "import tensorflow as tf\n",
    "\n",
    "def neural_net_image_input(image_shape):\n",
    "    \"\"\"\n",
    "    Return a Tensor for a bach of image input\n",
    "    : image_shape: Shape of the images\n",
    "    : return: Tensor for image input.\n",
    "    \"\"\"\n",
    "    input_shape_with_batch_size = (None,) + image_shape\n",
    "    return tf.placeholder(tf.float32, shape=input_shape_with_batch_size, name=\"x\")\n",
    "\n",
    "\n",
    "def neural_net_label_input(n_classes):\n",
    "    \"\"\"\n",
    "    Return a Tensor for a batch of label input\n",
    "    : n_classes: Number of classes\n",
    "    : return: Tensor for label input.\n",
    "    \"\"\"\n",
    "    label_shape_with_batch_size = (None,) + (n_classes,)\n",
    "    return tf.placeholder(tf.float32, shape=label_shape_with_batch_size, name=\"y\")\n",
    "\n",
    "def neural_net_keep_prob_input():\n",
    "    \"\"\"\n",
    "    Return a Tensor for keep probability\n",
    "    : return: Tensor for keep probability.\n",
    "    \"\"\"\n",
    "    # TODO: Implement Function\n",
    "    return tf.placeholder(tf.float32,name=\"keep_prob\")\n",
    "\n",
    "\n",
    "\"\"\"\n",
    "DON'T MODIFY ANYTHING IN THIS CELL THAT IS BELOW THIS LINE\n",
    "\"\"\"\n",
    "tf.reset_default_graph()\n",
    "tests.test_nn_image_inputs(neural_net_image_input)\n",
    "tests.test_nn_label_inputs(neural_net_label_input)\n",
    "tests.test_nn_keep_prob_inputs(neural_net_keep_prob_input)"
   ]
  },
  {
   "cell_type": "markdown",
   "metadata": {
    "deletable": true,
    "editable": true
   },
   "source": [
    "### Convolution and Max Pooling Layer\n",
    "Convolution layers have a lot of success with images. For this code cell, you should implement the function `conv2d_maxpool` to apply convolution then max pooling:\n",
    "* Create the weight and bias using `conv_ksize`, `conv_num_outputs` and the shape of `x_tensor`.\n",
    "* Apply a convolution to `x_tensor` using weight and `conv_strides`.\n",
    " * We recommend you use same padding, but you're welcome to use any padding.\n",
    "* Add bias\n",
    "* Add a nonlinear activation to the convolution.\n",
    "* Apply Max Pooling using `pool_ksize` and `pool_strides`.\n",
    " * We recommend you use same padding, but you're welcome to use any padding.\n",
    "\n",
    "**Note:** You **can't** use [TensorFlow Layers](https://www.tensorflow.org/api_docs/python/tf/layers) or [TensorFlow Layers (contrib)](https://www.tensorflow.org/api_guides/python/contrib.layers) for **this** layer, but you can still use TensorFlow's [Neural Network](https://www.tensorflow.org/api_docs/python/tf/nn) package. You may still use the shortcut option for all the **other** layers."
   ]
  },
  {
   "cell_type": "code",
   "execution_count": 43,
   "metadata": {
    "collapsed": false,
    "deletable": true,
    "editable": true
   },
   "outputs": [
    {
     "name": "stdout",
     "output_type": "stream",
     "text": [
      "(2, 2, 5, 10)\n",
      "x_t_s [None, 32, 32, 5]\n",
      "<class 'tuple'>\n",
      "Tests Passed\n"
     ]
    }
   ],
   "source": [
    "def conv2d_maxpool(x_tensor, conv_num_outputs, conv_ksize, conv_strides, pool_ksize, pool_strides):\n",
    "    \"\"\"\n",
    "    Apply convolution then max pooling to x_tensor\n",
    "    :param x_tensor: TensorFlow Tensor\n",
    "    :param conv_num_outputs: Number of outputs for the convolutional layer\n",
    "    :param conv_ksize: kernal size 2-D Tuple for the convolutional layer\n",
    "    :param conv_strides: Stride 2-D Tuple for convolution\n",
    "    :param pool_ksize: kernal size 2-D Tuple for pool\n",
    "    :param pool_strides: Stride 2-D Tuple for pool\n",
    "    : return: A tensor that represents convolution and max pooling of x_tensor\n",
    "    \"\"\"\n",
    "    # TODO: Implement Function\n",
    "    # a) weight and bias creation\n",
    "    # Weights & bias # from epochs\n",
    "    x_tensor_shape = x_tensor.get_shape().as_list()\n",
    "    # NOTE: bug in the line below was a main showstopper for a long time - making me distrust the rest of the code,\n",
    "    # but finally I got it right.\n",
    "    weights_shape = (conv_ksize[0],conv_ksize[1],x_tensor_shape[3],conv_num_outputs)\n",
    "    print(weights_shape)\n",
    "    print(\"x_t_s\", x_tensor_shape)\n",
    "    \n",
    "    #weights = tf.Variable(tf.random_normal(weights_shape))\n",
    "    \n",
    "    # from classroom tutorial (11.convolution output shape):\n",
    "    weights = tf.Variable(tf.truncated_normal(weights_shape,stddev=0.05)) # (height, width, input_depth, output_depth)\n",
    "\n",
    "    #bias = tf.Variable(tf.random_normal([conv_num_outputs]))\n",
    "    bias = tf.Variable(tf.zeros(conv_num_outputs))\n",
    "    \n",
    "    # b) convolution to x_tensor with weight and conv_strides\n",
    "    # grr, using 1d convolution.. \n",
    "    print(type(conv_strides))\n",
    "    conv2d_strides = [1,conv_strides[0],conv_strides[1],1]\n",
    "    # trying VALID instead of SAME\n",
    "    step_1_conv = tf.nn.conv2d(input=x_tensor, filter=weights, padding=\"VALID\", strides=conv2d_strides)\n",
    "    \n",
    "    # c) add bias\n",
    "    # http://stackoverflow.com/questions/36223157/set-weight-and-bias-tensors-of-tensorflow-conv2d-operation\n",
    "    step_2_bias = tf.nn.bias_add(step_1_conv, bias)\n",
    "    \n",
    "    # d) nonlinear activation, choosing relu()\n",
    "    # alternative, simpler approach perhaps?\n",
    "    #    https://www.tensorflow.org/api_docs/python/tf/nn/relu_layer\n",
    "    step_3_relu = tf.nn.relu(step_2_bias)\n",
    "    \n",
    "    # e) apply max pooling with pool_ksize and pool_strides\n",
    "    # https://www.tensorflow.org/api_docs/python/tf/nn/max_pool\n",
    "    # trick to deal with 2d https://www.tensorflow.org/get_started/mnist/pros#convolution_and_pooling\n",
    "    twod_pool_ksize = (1,) + pool_ksize + (1,)\n",
    "    twod_pool_strides = (1,) + pool_strides + (1,)\n",
    "    step_4_maxpool = tf.nn.max_pool(step_3_relu, twod_pool_ksize, twod_pool_strides, padding=\"SAME\")\n",
    "    \n",
    "    return step_4_maxpool\n",
    "\n",
    "\n",
    "\n",
    "\n",
    "\n",
    "\n",
    "\"\"\"\n",
    "DON'T MODIFY ANYTHING IN THIS CELL THAT IS BELOW THIS LINE\n",
    "\"\"\"\n",
    "tests.test_con_pool(conv2d_maxpool)"
   ]
  },
  {
   "cell_type": "markdown",
   "metadata": {
    "deletable": true,
    "editable": true
   },
   "source": [
    "### Flatten Layer\n",
    "Implement the `flatten` function to change the dimension of `x_tensor` from a 4-D tensor to a 2-D tensor.  The output should be the shape (*Batch Size*, *Flattened Image Size*). Shortcut option: you can use classes from the [TensorFlow Layers](https://www.tensorflow.org/api_docs/python/tf/layers) or [TensorFlow Layers (contrib)](https://www.tensorflow.org/api_guides/python/contrib.layers) packages for this layer. For more of a challenge, only use other TensorFlow packages."
   ]
  },
  {
   "cell_type": "code",
   "execution_count": 44,
   "metadata": {
    "collapsed": false,
    "deletable": true,
    "editable": true
   },
   "outputs": [
    {
     "name": "stdout",
     "output_type": "stream",
     "text": [
      "Tests Passed\n"
     ]
    }
   ],
   "source": [
    "def flatten(x_tensor):\n",
    "    \"\"\"\n",
    "    Flatten x_tensor to (Batch Size, Flattened Image Size)\n",
    "    : x_tensor: A tensor of size (Batch Size, ...), where ... are the image dimensions.\n",
    "    : return: A tensor of size (Batch Size, Flattened Image Size).\n",
    "    \"\"\"\n",
    "    # TODO: Implement Function\n",
    "    # http://stackoverflow.com/questions/36668542/flatten-batch-in-tensorflow\n",
    "    return tf.contrib.layers.flatten(x_tensor)\n",
    "\n",
    "\n",
    "\"\"\"\n",
    "DON'T MODIFY ANYTHING IN THIS CELL THAT IS BELOW THIS LINE\n",
    "\"\"\"\n",
    "tests.test_flatten(flatten)"
   ]
  },
  {
   "cell_type": "markdown",
   "metadata": {
    "deletable": true,
    "editable": true
   },
   "source": [
    "### Fully-Connected Layer\n",
    "Implement the `fully_conn` function to apply a fully connected layer to `x_tensor` with the shape (*Batch Size*, *num_outputs*). Shortcut option: you can use classes from the [TensorFlow Layers](https://www.tensorflow.org/api_docs/python/tf/layers) or [TensorFlow Layers (contrib)](https://www.tensorflow.org/api_guides/python/contrib.layers) packages for this layer. For more of a challenge, only use other TensorFlow packages."
   ]
  },
  {
   "cell_type": "code",
   "execution_count": 45,
   "metadata": {
    "collapsed": false,
    "deletable": true,
    "editable": true
   },
   "outputs": [
    {
     "name": "stdout",
     "output_type": "stream",
     "text": [
      "Tests Passed\n"
     ]
    }
   ],
   "source": [
    "def fully_conn(x_tensor, num_outputs):\n",
    "    \"\"\"\n",
    "    Apply a fully connected layer to x_tensor using weight and bias\n",
    "    : x_tensor: A 2-D tensor where the first dimension is batch size.\n",
    "    : num_outputs: The number of output that the new tensor should be.\n",
    "    : return: A 2-D tensor where the second dimension is num_outputs.\n",
    "    \"\"\"\n",
    "    # TODO: Implement Function\n",
    "    #return tf.contrib.layers.fully_connected(inputs=x_tensor, num_outputs=num_outputs, \n",
    "    #                                        activation_fn=tf.nn.relu)\n",
    "    # https://www.tensorflow.org/tutorials/layers\n",
    "    return tf.layers.dense(inputs=x_tensor, units=num_outputs,activation=tf.nn.relu)\n",
    "\n",
    "\n",
    "\"\"\"\n",
    "DON'T MODIFY ANYTHING IN THIS CELL THAT IS BELOW THIS LINE\n",
    "\"\"\"\n",
    "tests.test_fully_conn(fully_conn)"
   ]
  },
  {
   "cell_type": "markdown",
   "metadata": {
    "deletable": true,
    "editable": true
   },
   "source": [
    "### Output Layer\n",
    "Implement the `output` function to apply a fully connected layer to `x_tensor` with the shape (*Batch Size*, *num_outputs*). Shortcut option: you can use classes from the [TensorFlow Layers](https://www.tensorflow.org/api_docs/python/tf/layers) or [TensorFlow Layers (contrib)](https://www.tensorflow.org/api_guides/python/contrib.layers) packages for this layer. For more of a challenge, only use other TensorFlow packages.\n",
    "\n",
    "**Note:** Activation, softmax, or cross entropy should **not** be applied to this."
   ]
  },
  {
   "cell_type": "code",
   "execution_count": 46,
   "metadata": {
    "collapsed": false,
    "deletable": true,
    "editable": true
   },
   "outputs": [
    {
     "name": "stdout",
     "output_type": "stream",
     "text": [
      "Tests Passed\n"
     ]
    }
   ],
   "source": [
    "def output(x_tensor, num_outputs):\n",
    "    \"\"\"\n",
    "    Apply a output layer to x_tensor using weight and bias\n",
    "    : x_tensor: A 2-D tensor where the first dimension is batch size.\n",
    "    : num_outputs: The number of output that the new tensor should be.\n",
    "    : return: A 2-D tensor where the second dimension is num_outputs.\n",
    "    \"\"\"\n",
    "    # TODO: Implement Function\n",
    "    return tf.layers.dense(inputs=x_tensor, units=num_outputs)\n",
    "\n",
    "\n",
    "\"\"\"\n",
    "DON'T MODIFY ANYTHING IN THIS CELL THAT IS BELOW THIS LINE\n",
    "\"\"\"\n",
    "tests.test_output(output)"
   ]
  },
  {
   "cell_type": "markdown",
   "metadata": {
    "deletable": true,
    "editable": true
   },
   "source": [
    "### Create Convolutional Model\n",
    "Implement the function `conv_net` to create a convolutional neural network model. The function takes in a batch of images, `x`, and outputs logits.  Use the layers you created above to create this model:\n",
    "\n",
    "* Apply 1, 2, or 3 Convolution and Max Pool layers\n",
    "* Apply a Flatten Layer\n",
    "* Apply 1, 2, or 3 Fully Connected Layers\n",
    "* Apply an Output Layer\n",
    "* Return the output\n",
    "* Apply [TensorFlow's Dropout](https://www.tensorflow.org/api_docs/python/tf/nn/dropout) to one or more layers in the model using `keep_prob`. "
   ]
  },
  {
   "cell_type": "code",
   "execution_count": 47,
   "metadata": {
    "collapsed": false,
    "deletable": true,
    "editable": true
   },
   "outputs": [
    {
     "name": "stdout",
     "output_type": "stream",
     "text": [
      "(4, 4, 3, 64)\n",
      "x_t_s [None, 32, 32, 3]\n",
      "<class 'tuple'>\n",
      "(4, 4, 64, 64)\n",
      "x_t_s [None, 15, 15, 64]\n",
      "<class 'tuple'>\n",
      "(4, 4, 3, 64)\n",
      "x_t_s [None, 32, 32, 3]\n",
      "<class 'tuple'>\n",
      "(4, 4, 64, 64)\n",
      "x_t_s [None, 15, 15, 64]\n",
      "<class 'tuple'>\n",
      "Neural Network Built!\n"
     ]
    }
   ],
   "source": [
    "def conv_net(x, keep_prob):\n",
    "    \"\"\"\n",
    "    Create a convolutional neural network model\n",
    "    : x: Placeholder tensor that holds image data.\n",
    "    : keep_prob: Placeholder tensor that hold dropout keep probability.\n",
    "    : return: Tensor that represents logits\n",
    "    \"\"\"\n",
    "    # TODO: Apply 1, 2, or 3 Convolution and Max Pool layers\n",
    "    #    Play around with different number of outputs, kernel size and stride\n",
    "    # Function Definition from Above:\n",
    "    #    conv2d_maxpool(x_tensor, conv_num_outputs, conv_ksize, conv_strides, pool_ksize, pool_strides)\n",
    "    conv_num_outputs = 64\n",
    "    conv_ksize = (4,4)\n",
    "    conv_strides = (1,1)\n",
    "    pool_ksize = (2,2)\n",
    "    pool_strides = (2,2)\n",
    "    num_outputs = 10\n",
    "        \n",
    "    layer = conv2d_maxpool(x,conv_num_outputs,conv_ksize,conv_strides,pool_ksize,pool_strides)\n",
    "    layer = tf.nn.dropout(layer, keep_prob)\n",
    "    layer = conv2d_maxpool(layer,conv_num_outputs,conv_ksize,conv_strides,pool_ksize,pool_strides)\n",
    "    layer = tf.nn.dropout(layer, keep_prob)\n",
    "    \n",
    "    #for k in [80,200,300]:\n",
    "    #    layer = conv2d_maxpool(layer,k,conv_ksize,conv_strides,pool_ksize,pool_strides)\n",
    "    \n",
    "    layer = flatten(layer)\n",
    "    \n",
    "    layer = fully_conn(layer, 128)   \n",
    "    layer = fully_conn(layer, 128)\n",
    "    layer = fully_conn(layer, 128)\n",
    "\n",
    "    \n",
    "    #layer = tf.nn.dropout(layer,keep_prob)\n",
    "    \n",
    "    return output(layer, num_outputs)\n",
    "\n",
    "\n",
    "\"\"\"\n",
    "DON'T MODIFY ANYTHING IN THIS CELL THAT IS BELOW THIS LINE\n",
    "\"\"\"\n",
    "\n",
    "##############################\n",
    "## Build the Neural Network ##\n",
    "##############################\n",
    "\n",
    "# Remove previous weights, bias, inputs, etc..\n",
    "tf.reset_default_graph()\n",
    "\n",
    "# Inputs\n",
    "x = neural_net_image_input((32, 32, 3))\n",
    "y = neural_net_label_input(10)\n",
    "keep_prob = neural_net_keep_prob_input()\n",
    "\n",
    "# Model\n",
    "logits = conv_net(x, keep_prob)\n",
    "\n",
    "# Name logits Tensor, so that is can be loaded from disk after training\n",
    "logits = tf.identity(logits, name='logits')\n",
    "\n",
    "# Loss and Optimizer\n",
    "cost = tf.reduce_mean(tf.nn.softmax_cross_entropy_with_logits(logits=logits, labels=y))\n",
    "optimizer = tf.train.AdamOptimizer().minimize(cost)\n",
    "\n",
    "# Accuracy\n",
    "correct_pred = tf.equal(tf.argmax(logits, 1), tf.argmax(y, 1))\n",
    "accuracy = tf.reduce_mean(tf.cast(correct_pred, tf.float32), name='accuracy')\n",
    "\n",
    "tests.test_conv_net(conv_net)"
   ]
  },
  {
   "cell_type": "markdown",
   "metadata": {
    "deletable": true,
    "editable": true
   },
   "source": [
    "## Train the Neural Network\n",
    "### Single Optimization\n",
    "Implement the function `train_neural_network` to do a single optimization.  The optimization should use `optimizer` to optimize in `session` with a `feed_dict` of the following:\n",
    "* `x` for image input\n",
    "* `y` for labels\n",
    "* `keep_prob` for keep probability for dropout\n",
    "\n",
    "This function will be called for each batch, so `tf.global_variables_initializer()` has already been called.\n",
    "\n",
    "Note: Nothing needs to be returned. This function is only optimizing the neural network."
   ]
  },
  {
   "cell_type": "code",
   "execution_count": 48,
   "metadata": {
    "collapsed": false,
    "deletable": true,
    "editable": true
   },
   "outputs": [
    {
     "name": "stdout",
     "output_type": "stream",
     "text": [
      "Tests Passed\n"
     ]
    }
   ],
   "source": [
    "def train_neural_network(session, optimizer, keep_probability, feature_batch, label_batch):\n",
    "    \"\"\"\n",
    "    Optimize the session on a batch of images and labels\n",
    "    : session: Current TensorFlow session\n",
    "    : optimizer: TensorFlow optimizer function\n",
    "    : keep_probability: keep probability\n",
    "    : feature_batch: Batch of Numpy image data\n",
    "    : label_batch: Batch of Numpy label data\n",
    "    \"\"\"\n",
    "    train_feed_dict = {\n",
    "        x: feature_batch,\n",
    "        y: label_batch,\n",
    "        keep_prob: keep_probability}\n",
    "    session.run(optimizer, feed_dict=train_feed_dict)\n",
    "    \n",
    "\n",
    "\n",
    "\"\"\"\n",
    "DON'T MODIFY ANYTHING IN THIS CELL THAT IS BELOW THIS LINE\n",
    "\"\"\"\n",
    "tests.test_train_nn(train_neural_network)"
   ]
  },
  {
   "cell_type": "markdown",
   "metadata": {
    "deletable": true,
    "editable": true
   },
   "source": [
    "### Show Stats\n",
    "Implement the function `print_stats` to print loss and validation accuracy.  Use the global variables `valid_features` and `valid_labels` to calculate validation accuracy.  Use a keep probability of `1.0` to calculate the loss and validation accuracy."
   ]
  },
  {
   "cell_type": "code",
   "execution_count": 49,
   "metadata": {
    "collapsed": false,
    "deletable": true,
    "editable": true
   },
   "outputs": [],
   "source": [
    "def print_stats(session, feature_batch, label_batch, cost, accuracy):\n",
    "    \"\"\"\n",
    "    Print information about loss and validation accuracy\n",
    "    : session: Current TensorFlow session\n",
    "    : feature_batch: Batch of Numpy image data\n",
    "    : label_batch: Batch of Numpy label data\n",
    "    : cost: TensorFlow cost function\n",
    "    : accuracy: TensorFlow accuracy function\n",
    "    \"\"\"\n",
    "    # TODO: Implement Function\n",
    "    feed_dict = {\n",
    "        x: feature_batch,\n",
    "        y: label_batch,\n",
    "        keep_prob: 1.0\n",
    "    }\n",
    "    loss = session.run(cost,feed_dict=feed_dict)\n",
    "    train_accuracy = session.run(accuracy, feed_dict=feed_dict)\n",
    "    valid_accuracy = session.run(accuracy,\n",
    "                                feed_dict={x:valid_features,y:valid_labels,keep_prob:1.0})\n",
    "    \n",
    "    print('Validation Accuracy: {:<8.3}, Train Accuracy {:<8.3}, Loss: {:<5.3}'.format(\n",
    "        valid_accuracy,\n",
    "        train_accuracy,\n",
    "        loss))\n",
    "    \n",
    "    "
   ]
  },
  {
   "cell_type": "markdown",
   "metadata": {
    "deletable": true,
    "editable": true
   },
   "source": [
    "### Hyperparameters\n",
    "Tune the following parameters:\n",
    "* Set `epochs` to the number of iterations until the network stops learning or start overfitting\n",
    "* Set `batch_size` to the highest number that your machine has memory for.  Most people set them to common sizes of memory:\n",
    " * 64\n",
    " * 128\n",
    " * 256\n",
    " * ...\n",
    "* Set `keep_probability` to the probability of keeping a node using dropout"
   ]
  },
  {
   "cell_type": "code",
   "execution_count": 50,
   "metadata": {
    "collapsed": true,
    "deletable": true,
    "editable": true
   },
   "outputs": [],
   "source": [
    "# TODO: Tune Parameters\n",
    "epochs = 50\n",
    "batch_size = 512\n",
    "keep_probability = 0.60"
   ]
  },
  {
   "cell_type": "markdown",
   "metadata": {
    "deletable": true,
    "editable": true
   },
   "source": [
    "### Train on a Single CIFAR-10 Batch\n",
    "Instead of training the neural network on all the CIFAR-10 batches of data, let's use a single batch. This should save time while you iterate on the model to get a better accuracy.  Once the final validation accuracy is 50% or greater, run the model on all the data in the next section."
   ]
  },
  {
   "cell_type": "code",
   "execution_count": 51,
   "metadata": {
    "collapsed": false,
    "deletable": true,
    "editable": true
   },
   "outputs": [
    {
     "name": "stdout",
     "output_type": "stream",
     "text": [
      "Checking the Training on a Single Batch...\n",
      "Epoch  1, CIFAR-10 Batch 1:  Validation Accuracy: 0.24    , Train Accuracy 0.25    , Loss: 2.16 \n",
      "Epoch  2, CIFAR-10 Batch 1:  Validation Accuracy: 0.283   , Train Accuracy 0.274   , Loss: 2.01 \n",
      "Epoch  3, CIFAR-10 Batch 1:  Validation Accuracy: 0.355   , Train Accuracy 0.341   , Loss: 1.86 \n",
      "Epoch  4, CIFAR-10 Batch 1:  Validation Accuracy: 0.387   , Train Accuracy 0.385   , Loss: 1.77 \n",
      "Epoch  5, CIFAR-10 Batch 1:  Validation Accuracy: 0.376   , Train Accuracy 0.382   , Loss: 1.76 \n",
      "Epoch  6, CIFAR-10 Batch 1:  Validation Accuracy: 0.433   , Train Accuracy 0.449   , Loss: 1.59 \n",
      "Epoch  7, CIFAR-10 Batch 1:  Validation Accuracy: 0.471   , Train Accuracy 0.503   , Loss: 1.5  \n",
      "Epoch  8, CIFAR-10 Batch 1:  Validation Accuracy: 0.489   , Train Accuracy 0.524   , Loss: 1.44 \n",
      "Epoch  9, CIFAR-10 Batch 1:  Validation Accuracy: 0.497   , Train Accuracy 0.541   , Loss: 1.4  \n",
      "Epoch 10, CIFAR-10 Batch 1:  Validation Accuracy: 0.514   , Train Accuracy 0.578   , Loss: 1.33 \n",
      "Epoch 11, CIFAR-10 Batch 1:  Validation Accuracy: 0.528   , Train Accuracy 0.598   , Loss: 1.28 \n",
      "Epoch 12, CIFAR-10 Batch 1:  Validation Accuracy: 0.534   , Train Accuracy 0.615   , Loss: 1.25 \n",
      "Epoch 13, CIFAR-10 Batch 1:  Validation Accuracy: 0.54    , Train Accuracy 0.635   , Loss: 1.19 \n",
      "Epoch 14, CIFAR-10 Batch 1:  Validation Accuracy: 0.56    , Train Accuracy 0.666   , Loss: 1.12 \n",
      "Epoch 15, CIFAR-10 Batch 1:  Validation Accuracy: 0.553   , Train Accuracy 0.672   , Loss: 1.09 \n",
      "Epoch 16, CIFAR-10 Batch 1:  Validation Accuracy: 0.569   , Train Accuracy 0.679   , Loss: 1.03 \n",
      "Epoch 17, CIFAR-10 Batch 1:  Validation Accuracy: 0.571   , Train Accuracy 0.703   , Loss: 0.978\n",
      "Epoch 18, CIFAR-10 Batch 1:  Validation Accuracy: 0.583   , Train Accuracy 0.733   , Loss: 0.932\n",
      "Epoch 19, CIFAR-10 Batch 1:  Validation Accuracy: 0.586   , Train Accuracy 0.72    , Loss: 0.908\n",
      "Epoch 20, CIFAR-10 Batch 1:  Validation Accuracy: 0.586   , Train Accuracy 0.74    , Loss: 0.844\n",
      "Epoch 21, CIFAR-10 Batch 1:  Validation Accuracy: 0.596   , Train Accuracy 0.77    , Loss: 0.774\n",
      "Epoch 22, CIFAR-10 Batch 1:  Validation Accuracy: 0.603   , Train Accuracy 0.787   , Loss: 0.735\n",
      "Epoch 23, CIFAR-10 Batch 1:  Validation Accuracy: 0.598   , Train Accuracy 0.777   , Loss: 0.724\n",
      "Epoch 24, CIFAR-10 Batch 1:  Validation Accuracy: 0.605   , Train Accuracy 0.807   , Loss: 0.701\n",
      "Epoch 25, CIFAR-10 Batch 1:  Validation Accuracy: 0.595   , Train Accuracy 0.818   , Loss: 0.678\n",
      "Epoch 26, CIFAR-10 Batch 1:  Validation Accuracy: 0.609   , Train Accuracy 0.841   , Loss: 0.59 \n",
      "Epoch 27, CIFAR-10 Batch 1:  Validation Accuracy: 0.599   , Train Accuracy 0.848   , Loss: 0.56 \n",
      "Epoch 28, CIFAR-10 Batch 1:  Validation Accuracy: 0.59    , Train Accuracy 0.855   , Loss: 0.534\n",
      "Epoch 29, CIFAR-10 Batch 1:  Validation Accuracy: 0.599   , Train Accuracy 0.865   , Loss: 0.505\n",
      "Epoch 30, CIFAR-10 Batch 1:  Validation Accuracy: 0.617   , Train Accuracy 0.878   , Loss: 0.435\n",
      "Epoch 31, CIFAR-10 Batch 1:  Validation Accuracy: 0.606   , Train Accuracy 0.909   , Loss: 0.419\n",
      "Epoch 32, CIFAR-10 Batch 1:  Validation Accuracy: 0.625   , Train Accuracy 0.909   , Loss: 0.383\n",
      "Epoch 33, CIFAR-10 Batch 1:  Validation Accuracy: 0.618   , Train Accuracy 0.909   , Loss: 0.368\n",
      "Epoch 34, CIFAR-10 Batch 1:  Validation Accuracy: 0.617   , Train Accuracy 0.912   , Loss: 0.348\n",
      "Epoch 35, CIFAR-10 Batch 1:  Validation Accuracy: 0.618   , Train Accuracy 0.905   , Loss: 0.353\n",
      "Epoch 36, CIFAR-10 Batch 1:  Validation Accuracy: 0.618   , Train Accuracy 0.939   , Loss: 0.289\n",
      "Epoch 37, CIFAR-10 Batch 1:  Validation Accuracy: 0.611   , Train Accuracy 0.943   , Loss: 0.296\n",
      "Epoch 38, CIFAR-10 Batch 1:  Validation Accuracy: 0.607   , Train Accuracy 0.929   , Loss: 0.3  \n",
      "Epoch 39, CIFAR-10 Batch 1:  Validation Accuracy: 0.599   , Train Accuracy 0.932   , Loss: 0.309\n",
      "Epoch 40, CIFAR-10 Batch 1:  Validation Accuracy: 0.628   , Train Accuracy 0.949   , Loss: 0.237\n",
      "Epoch 41, CIFAR-10 Batch 1:  Validation Accuracy: 0.627   , Train Accuracy 0.973   , Loss: 0.203\n",
      "Epoch 42, CIFAR-10 Batch 1:  Validation Accuracy: 0.612   , Train Accuracy 0.966   , Loss: 0.214\n",
      "Epoch 43, CIFAR-10 Batch 1:  Validation Accuracy: 0.604   , Train Accuracy 0.973   , Loss: 0.214\n",
      "Epoch 44, CIFAR-10 Batch 1:  Validation Accuracy: 0.615   , Train Accuracy 0.99    , Loss: 0.174\n",
      "Epoch 45, CIFAR-10 Batch 1:  Validation Accuracy: 0.631   , Train Accuracy 0.98    , Loss: 0.148\n",
      "Epoch 46, CIFAR-10 Batch 1:  Validation Accuracy: 0.625   , Train Accuracy 0.986   , Loss: 0.122\n",
      "Epoch 47, CIFAR-10 Batch 1:  Validation Accuracy: 0.627   , Train Accuracy 0.986   , Loss: 0.118\n",
      "Epoch 48, CIFAR-10 Batch 1:  Validation Accuracy: 0.621   , Train Accuracy 0.986   , Loss: 0.125\n",
      "Epoch 49, CIFAR-10 Batch 1:  Validation Accuracy: 0.63    , Train Accuracy 0.983   , Loss: 0.11 \n",
      "Epoch 50, CIFAR-10 Batch 1:  Validation Accuracy: 0.626   , Train Accuracy 0.99    , Loss: 0.105\n"
     ]
    }
   ],
   "source": [
    "\"\"\"\n",
    "DON'T MODIFY ANYTHING IN THIS CELL\n",
    "\"\"\"\n",
    "print('Checking the Training on a Single Batch...')\n",
    "with tf.Session() as sess:\n",
    "    # Initializing the variables\n",
    "    sess.run(tf.global_variables_initializer())\n",
    "    \n",
    "    # Training cycle\n",
    "    for epoch in range(epochs):\n",
    "        batch_i = 1\n",
    "        for batch_features, batch_labels in helper.load_preprocess_training_batch(batch_i, batch_size):\n",
    "            train_neural_network(sess, optimizer, keep_probability, batch_features, batch_labels)\n",
    "        print('Epoch {:>2}, CIFAR-10 Batch {}:  '.format(epoch + 1, batch_i), end='')\n",
    "        print_stats(sess, batch_features, batch_labels, cost, accuracy)"
   ]
  },
  {
   "cell_type": "markdown",
   "metadata": {
    "deletable": true,
    "editable": true
   },
   "source": [
    "### Fully Train the Model\n",
    "Now that you got a good accuracy with a single CIFAR-10 batch, try it with all five batches."
   ]
  },
  {
   "cell_type": "code",
   "execution_count": 52,
   "metadata": {
    "collapsed": false,
    "deletable": true,
    "editable": true
   },
   "outputs": [
    {
     "name": "stdout",
     "output_type": "stream",
     "text": [
      "Training...\n",
      "Epoch  1, CIFAR-10 Batch 1:  Validation Accuracy: 0.224   , Train Accuracy 0.243   , Loss: 2.11 \n",
      "Epoch  1, CIFAR-10 Batch 2:  Validation Accuracy: 0.282   , Train Accuracy 0.277   , Loss: 1.97 \n",
      "Epoch  1, CIFAR-10 Batch 3:  Validation Accuracy: 0.341   , Train Accuracy 0.385   , Loss: 1.76 \n",
      "Epoch  1, CIFAR-10 Batch 4:  Validation Accuracy: 0.392   , Train Accuracy 0.392   , Loss: 1.67 \n",
      "Epoch  1, CIFAR-10 Batch 5:  Validation Accuracy: 0.416   , Train Accuracy 0.453   , Loss: 1.63 \n",
      "Epoch  2, CIFAR-10 Batch 1:  Validation Accuracy: 0.451   , Train Accuracy 0.422   , Loss: 1.63 \n",
      "Epoch  2, CIFAR-10 Batch 2:  Validation Accuracy: 0.464   , Train Accuracy 0.466   , Loss: 1.5  \n",
      "Epoch  2, CIFAR-10 Batch 3:  Validation Accuracy: 0.47    , Train Accuracy 0.541   , Loss: 1.3  \n",
      "Epoch  2, CIFAR-10 Batch 4:  Validation Accuracy: 0.477   , Train Accuracy 0.459   , Loss: 1.39 \n",
      "Epoch  2, CIFAR-10 Batch 5:  Validation Accuracy: 0.497   , Train Accuracy 0.551   , Loss: 1.38 \n",
      "Epoch  3, CIFAR-10 Batch 1:  Validation Accuracy: 0.495   , Train Accuracy 0.49    , Loss: 1.44 \n",
      "Epoch  3, CIFAR-10 Batch 2:  Validation Accuracy: 0.527   , Train Accuracy 0.534   , Loss: 1.35 \n",
      "Epoch  3, CIFAR-10 Batch 3:  Validation Accuracy: 0.512   , Train Accuracy 0.578   , Loss: 1.2  \n",
      "Epoch  3, CIFAR-10 Batch 4:  Validation Accuracy: 0.543   , Train Accuracy 0.557   , Loss: 1.21 \n",
      "Epoch  3, CIFAR-10 Batch 5:  Validation Accuracy: 0.551   , Train Accuracy 0.595   , Loss: 1.24 \n",
      "Epoch  4, CIFAR-10 Batch 1:  Validation Accuracy: 0.56    , Train Accuracy 0.557   , Loss: 1.27 \n",
      "Epoch  4, CIFAR-10 Batch 2:  Validation Accuracy: 0.57    , Train Accuracy 0.598   , Loss: 1.19 \n",
      "Epoch  4, CIFAR-10 Batch 3:  Validation Accuracy: 0.556   , Train Accuracy 0.622   , Loss: 1.09 \n",
      "Epoch  4, CIFAR-10 Batch 4:  Validation Accuracy: 0.584   , Train Accuracy 0.615   , Loss: 1.07 \n",
      "Epoch  4, CIFAR-10 Batch 5:  Validation Accuracy: 0.582   , Train Accuracy 0.666   , Loss: 1.08 \n",
      "Epoch  5, CIFAR-10 Batch 1:  Validation Accuracy: 0.597   , Train Accuracy 0.591   , Loss: 1.15 \n",
      "Epoch  5, CIFAR-10 Batch 2:  Validation Accuracy: 0.592   , Train Accuracy 0.632   , Loss: 1.07 \n",
      "Epoch  5, CIFAR-10 Batch 3:  Validation Accuracy: 0.593   , Train Accuracy 0.655   , Loss: 0.98 \n",
      "Epoch  5, CIFAR-10 Batch 4:  Validation Accuracy: 0.614   , Train Accuracy 0.669   , Loss: 0.959\n",
      "Epoch  5, CIFAR-10 Batch 5:  Validation Accuracy: 0.613   , Train Accuracy 0.666   , Loss: 0.972\n",
      "Epoch  6, CIFAR-10 Batch 1:  Validation Accuracy: 0.628   , Train Accuracy 0.628   , Loss: 1.02 \n",
      "Epoch  6, CIFAR-10 Batch 2:  Validation Accuracy: 0.622   , Train Accuracy 0.655   , Loss: 0.975\n",
      "Epoch  6, CIFAR-10 Batch 3:  Validation Accuracy: 0.625   , Train Accuracy 0.696   , Loss: 0.901\n",
      "Epoch  6, CIFAR-10 Batch 4:  Validation Accuracy: 0.637   , Train Accuracy 0.713   , Loss: 0.861\n",
      "Epoch  6, CIFAR-10 Batch 5:  Validation Accuracy: 0.634   , Train Accuracy 0.703   , Loss: 0.888\n",
      "Epoch  7, CIFAR-10 Batch 1:  Validation Accuracy: 0.648   , Train Accuracy 0.666   , Loss: 0.945\n",
      "Epoch  7, CIFAR-10 Batch 2:  Validation Accuracy: 0.638   , Train Accuracy 0.699   , Loss: 0.925\n",
      "Epoch  7, CIFAR-10 Batch 3:  Validation Accuracy: 0.632   , Train Accuracy 0.699   , Loss: 0.835\n",
      "Epoch  7, CIFAR-10 Batch 4:  Validation Accuracy: 0.651   , Train Accuracy 0.736   , Loss: 0.784\n",
      "Epoch  7, CIFAR-10 Batch 5:  Validation Accuracy: 0.661   , Train Accuracy 0.72    , Loss: 0.798\n",
      "Epoch  8, CIFAR-10 Batch 1:  Validation Accuracy: 0.651   , Train Accuracy 0.703   , Loss: 0.877\n",
      "Epoch  8, CIFAR-10 Batch 2:  Validation Accuracy: 0.654   , Train Accuracy 0.706   , Loss: 0.84 \n",
      "Epoch  8, CIFAR-10 Batch 3:  Validation Accuracy: 0.647   , Train Accuracy 0.72    , Loss: 0.782\n",
      "Epoch  8, CIFAR-10 Batch 4:  Validation Accuracy: 0.664   , Train Accuracy 0.757   , Loss: 0.748\n",
      "Epoch  8, CIFAR-10 Batch 5:  Validation Accuracy: 0.675   , Train Accuracy 0.777   , Loss: 0.732\n",
      "Epoch  9, CIFAR-10 Batch 1:  Validation Accuracy: 0.673   , Train Accuracy 0.713   , Loss: 0.822\n",
      "Epoch  9, CIFAR-10 Batch 2:  Validation Accuracy: 0.663   , Train Accuracy 0.723   , Loss: 0.808\n",
      "Epoch  9, CIFAR-10 Batch 3:  Validation Accuracy: 0.665   , Train Accuracy 0.76    , Loss: 0.742\n",
      "Epoch  9, CIFAR-10 Batch 4:  Validation Accuracy: 0.676   , Train Accuracy 0.77    , Loss: 0.695\n",
      "Epoch  9, CIFAR-10 Batch 5:  Validation Accuracy: 0.683   , Train Accuracy 0.804   , Loss: 0.711\n",
      "Epoch 10, CIFAR-10 Batch 1:  Validation Accuracy: 0.692   , Train Accuracy 0.75    , Loss: 0.784\n",
      "Epoch 10, CIFAR-10 Batch 2:  Validation Accuracy: 0.68    , Train Accuracy 0.777   , Loss: 0.75 \n",
      "Epoch 10, CIFAR-10 Batch 3:  Validation Accuracy: 0.682   , Train Accuracy 0.784   , Loss: 0.669\n",
      "Epoch 10, CIFAR-10 Batch 4:  Validation Accuracy: 0.684   , Train Accuracy 0.774   , Loss: 0.662\n",
      "Epoch 10, CIFAR-10 Batch 5:  Validation Accuracy: 0.687   , Train Accuracy 0.818   , Loss: 0.642\n",
      "Epoch 11, CIFAR-10 Batch 1:  Validation Accuracy: 0.695   , Train Accuracy 0.74    , Loss: 0.734\n",
      "Epoch 11, CIFAR-10 Batch 2:  Validation Accuracy: 0.692   , Train Accuracy 0.764   , Loss: 0.715\n",
      "Epoch 11, CIFAR-10 Batch 3:  Validation Accuracy: 0.683   , Train Accuracy 0.787   , Loss: 0.653\n",
      "Epoch 11, CIFAR-10 Batch 4:  Validation Accuracy: 0.686   , Train Accuracy 0.78    , Loss: 0.643\n",
      "Epoch 11, CIFAR-10 Batch 5:  Validation Accuracy: 0.692   , Train Accuracy 0.828   , Loss: 0.608\n",
      "Epoch 12, CIFAR-10 Batch 1:  Validation Accuracy: 0.702   , Train Accuracy 0.78    , Loss: 0.679\n",
      "Epoch 12, CIFAR-10 Batch 2:  Validation Accuracy: 0.698   , Train Accuracy 0.784   , Loss: 0.672\n",
      "Epoch 12, CIFAR-10 Batch 3:  Validation Accuracy: 0.687   , Train Accuracy 0.814   , Loss: 0.588\n",
      "Epoch 12, CIFAR-10 Batch 4:  Validation Accuracy: 0.705   , Train Accuracy 0.821   , Loss: 0.574\n",
      "Epoch 12, CIFAR-10 Batch 5:  Validation Accuracy: 0.697   , Train Accuracy 0.834   , Loss: 0.569\n",
      "Epoch 13, CIFAR-10 Batch 1:  Validation Accuracy: 0.707   , Train Accuracy 0.787   , Loss: 0.632\n",
      "Epoch 13, CIFAR-10 Batch 2:  Validation Accuracy: 0.696   , Train Accuracy 0.821   , Loss: 0.641\n",
      "Epoch 13, CIFAR-10 Batch 3:  Validation Accuracy: 0.684   , Train Accuracy 0.804   , Loss: 0.58 \n",
      "Epoch 13, CIFAR-10 Batch 4:  Validation Accuracy: 0.71    , Train Accuracy 0.821   , Loss: 0.54 \n",
      "Epoch 13, CIFAR-10 Batch 5:  Validation Accuracy: 0.698   , Train Accuracy 0.838   , Loss: 0.534\n",
      "Epoch 14, CIFAR-10 Batch 1:  Validation Accuracy: 0.706   , Train Accuracy 0.801   , Loss: 0.6  \n",
      "Epoch 14, CIFAR-10 Batch 2:  Validation Accuracy: 0.691   , Train Accuracy 0.814   , Loss: 0.645\n",
      "Epoch 14, CIFAR-10 Batch 3:  Validation Accuracy: 0.67    , Train Accuracy 0.824   , Loss: 0.577\n",
      "Epoch 14, CIFAR-10 Batch 4:  Validation Accuracy: 0.707   , Train Accuracy 0.818   , Loss: 0.553\n",
      "Epoch 14, CIFAR-10 Batch 5:  Validation Accuracy: 0.71    , Train Accuracy 0.834   , Loss: 0.529\n",
      "Epoch 15, CIFAR-10 Batch 1:  Validation Accuracy: 0.71    , Train Accuracy 0.818   , Loss: 0.561\n",
      "Epoch 15, CIFAR-10 Batch 2:  Validation Accuracy: 0.713   , Train Accuracy 0.828   , Loss: 0.584\n",
      "Epoch 15, CIFAR-10 Batch 3:  Validation Accuracy: 0.702   , Train Accuracy 0.845   , Loss: 0.508\n",
      "Epoch 15, CIFAR-10 Batch 4:  Validation Accuracy: 0.719   , Train Accuracy 0.858   , Loss: 0.485\n",
      "Epoch 15, CIFAR-10 Batch 5:  Validation Accuracy: 0.717   , Train Accuracy 0.872   , Loss: 0.487\n",
      "Epoch 16, CIFAR-10 Batch 1:  Validation Accuracy: 0.703   , Train Accuracy 0.831   , Loss: 0.513\n",
      "Epoch 16, CIFAR-10 Batch 2:  Validation Accuracy: 0.696   , Train Accuracy 0.811   , Loss: 0.612\n",
      "Epoch 16, CIFAR-10 Batch 3:  Validation Accuracy: 0.712   , Train Accuracy 0.851   , Loss: 0.483\n",
      "Epoch 16, CIFAR-10 Batch 4:  Validation Accuracy: 0.722   , Train Accuracy 0.861   , Loss: 0.467\n",
      "Epoch 16, CIFAR-10 Batch 5:  Validation Accuracy: 0.713   , Train Accuracy 0.855   , Loss: 0.485\n",
      "Epoch 17, CIFAR-10 Batch 1:  Validation Accuracy: 0.727   , Train Accuracy 0.838   , Loss: 0.486\n",
      "Epoch 17, CIFAR-10 Batch 2:  Validation Accuracy: 0.705   , Train Accuracy 0.834   , Loss: 0.536\n",
      "Epoch 17, CIFAR-10 Batch 3:  Validation Accuracy: 0.722   , Train Accuracy 0.868   , Loss: 0.458\n",
      "Epoch 17, CIFAR-10 Batch 4:  Validation Accuracy: 0.718   , Train Accuracy 0.872   , Loss: 0.457\n",
      "Epoch 17, CIFAR-10 Batch 5:  Validation Accuracy: 0.714   , Train Accuracy 0.868   , Loss: 0.46 \n",
      "Epoch 18, CIFAR-10 Batch 1:  Validation Accuracy: 0.725   , Train Accuracy 0.861   , Loss: 0.448\n",
      "Epoch 18, CIFAR-10 Batch 2:  Validation Accuracy: 0.716   , Train Accuracy 0.848   , Loss: 0.502\n",
      "Epoch 18, CIFAR-10 Batch 3:  Validation Accuracy: 0.715   , Train Accuracy 0.861   , Loss: 0.447\n",
      "Epoch 18, CIFAR-10 Batch 4:  Validation Accuracy: 0.728   , Train Accuracy 0.885   , Loss: 0.449\n",
      "Epoch 18, CIFAR-10 Batch 5:  Validation Accuracy: 0.717   , Train Accuracy 0.902   , Loss: 0.423\n",
      "Epoch 19, CIFAR-10 Batch 1:  Validation Accuracy: 0.723   , Train Accuracy 0.858   , Loss: 0.433\n",
      "Epoch 19, CIFAR-10 Batch 2:  Validation Accuracy: 0.702   , Train Accuracy 0.828   , Loss: 0.512\n",
      "Epoch 19, CIFAR-10 Batch 3:  Validation Accuracy: 0.73    , Train Accuracy 0.878   , Loss: 0.401\n",
      "Epoch 19, CIFAR-10 Batch 4:  Validation Accuracy: 0.728   , Train Accuracy 0.889   , Loss: 0.401\n",
      "Epoch 19, CIFAR-10 Batch 5:  Validation Accuracy: 0.726   , Train Accuracy 0.912   , Loss: 0.38 \n",
      "Epoch 20, CIFAR-10 Batch 1:  Validation Accuracy: 0.727   , Train Accuracy 0.878   , Loss: 0.396\n",
      "Epoch 20, CIFAR-10 Batch 2:  Validation Accuracy: 0.721   , Train Accuracy 0.861   , Loss: 0.448\n",
      "Epoch 20, CIFAR-10 Batch 3:  Validation Accuracy: 0.728   , Train Accuracy 0.885   , Loss: 0.394\n",
      "Epoch 20, CIFAR-10 Batch 4:  Validation Accuracy: 0.732   , Train Accuracy 0.912   , Loss: 0.367\n",
      "Epoch 20, CIFAR-10 Batch 5:  Validation Accuracy: 0.729   , Train Accuracy 0.909   , Loss: 0.362\n",
      "Epoch 21, CIFAR-10 Batch 1:  Validation Accuracy: 0.728   , Train Accuracy 0.855   , Loss: 0.388\n",
      "Epoch 21, CIFAR-10 Batch 2:  Validation Accuracy: 0.718   , Train Accuracy 0.885   , Loss: 0.453\n",
      "Epoch 21, CIFAR-10 Batch 3:  Validation Accuracy: 0.73    , Train Accuracy 0.882   , Loss: 0.38 \n",
      "Epoch 21, CIFAR-10 Batch 4:  Validation Accuracy: 0.728   , Train Accuracy 0.912   , Loss: 0.378\n",
      "Epoch 21, CIFAR-10 Batch 5:  Validation Accuracy: 0.725   , Train Accuracy 0.926   , Loss: 0.349\n",
      "Epoch 22, CIFAR-10 Batch 1:  Validation Accuracy: 0.721   , Train Accuracy 0.899   , Loss: 0.354\n",
      "Epoch 22, CIFAR-10 Batch 2:  Validation Accuracy: 0.724   , Train Accuracy 0.885   , Loss: 0.418\n",
      "Epoch 22, CIFAR-10 Batch 3:  Validation Accuracy: 0.707   , Train Accuracy 0.868   , Loss: 0.407\n",
      "Epoch 22, CIFAR-10 Batch 4:  Validation Accuracy: 0.732   , Train Accuracy 0.919   , Loss: 0.341\n",
      "Epoch 22, CIFAR-10 Batch 5:  Validation Accuracy: 0.728   , Train Accuracy 0.905   , Loss: 0.325\n",
      "Epoch 23, CIFAR-10 Batch 1:  Validation Accuracy: 0.726   , Train Accuracy 0.892   , Loss: 0.353\n",
      "Epoch 23, CIFAR-10 Batch 2:  Validation Accuracy: 0.727   , Train Accuracy 0.902   , Loss: 0.373\n",
      "Epoch 23, CIFAR-10 Batch 3:  Validation Accuracy: 0.728   , Train Accuracy 0.899   , Loss: 0.355\n",
      "Epoch 23, CIFAR-10 Batch 4:  Validation Accuracy: 0.734   , Train Accuracy 0.929   , Loss: 0.329\n",
      "Epoch 23, CIFAR-10 Batch 5:  Validation Accuracy: 0.721   , Train Accuracy 0.922   , Loss: 0.332\n",
      "Epoch 24, CIFAR-10 Batch 1:  Validation Accuracy: 0.736   , Train Accuracy 0.899   , Loss: 0.343\n",
      "Epoch 24, CIFAR-10 Batch 2:  Validation Accuracy: 0.733   , Train Accuracy 0.912   , Loss: 0.349\n",
      "Epoch 24, CIFAR-10 Batch 3:  Validation Accuracy: 0.731   , Train Accuracy 0.899   , Loss: 0.334\n",
      "Epoch 24, CIFAR-10 Batch 4:  Validation Accuracy: 0.735   , Train Accuracy 0.929   , Loss: 0.324\n",
      "Epoch 24, CIFAR-10 Batch 5:  Validation Accuracy: 0.728   , Train Accuracy 0.922   , Loss: 0.307\n",
      "Epoch 25, CIFAR-10 Batch 1:  Validation Accuracy: 0.74    , Train Accuracy 0.902   , Loss: 0.325\n",
      "Epoch 25, CIFAR-10 Batch 2:  Validation Accuracy: 0.736   , Train Accuracy 0.919   , Loss: 0.351\n",
      "Epoch 25, CIFAR-10 Batch 3:  Validation Accuracy: 0.732   , Train Accuracy 0.885   , Loss: 0.321\n",
      "Epoch 25, CIFAR-10 Batch 4:  Validation Accuracy: 0.728   , Train Accuracy 0.929   , Loss: 0.306\n",
      "Epoch 25, CIFAR-10 Batch 5:  Validation Accuracy: 0.734   , Train Accuracy 0.936   , Loss: 0.284\n",
      "Epoch 26, CIFAR-10 Batch 1:  Validation Accuracy: 0.74    , Train Accuracy 0.905   , Loss: 0.306\n",
      "Epoch 26, CIFAR-10 Batch 2:  Validation Accuracy: 0.742   , Train Accuracy 0.922   , Loss: 0.336\n",
      "Epoch 26, CIFAR-10 Batch 3:  Validation Accuracy: 0.728   , Train Accuracy 0.916   , Loss: 0.295\n",
      "Epoch 26, CIFAR-10 Batch 4:  Validation Accuracy: 0.731   , Train Accuracy 0.926   , Loss: 0.28 \n",
      "Epoch 26, CIFAR-10 Batch 5:  Validation Accuracy: 0.739   , Train Accuracy 0.946   , Loss: 0.233\n",
      "Epoch 27, CIFAR-10 Batch 1:  Validation Accuracy: 0.739   , Train Accuracy 0.922   , Loss: 0.294\n",
      "Epoch 27, CIFAR-10 Batch 2:  Validation Accuracy: 0.741   , Train Accuracy 0.916   , Loss: 0.302\n",
      "Epoch 27, CIFAR-10 Batch 3:  Validation Accuracy: 0.731   , Train Accuracy 0.926   , Loss: 0.278\n",
      "Epoch 27, CIFAR-10 Batch 4:  Validation Accuracy: 0.725   , Train Accuracy 0.949   , Loss: 0.259\n",
      "Epoch 27, CIFAR-10 Batch 5:  Validation Accuracy: 0.731   , Train Accuracy 0.936   , Loss: 0.243\n",
      "Epoch 28, CIFAR-10 Batch 1:  Validation Accuracy: 0.733   , Train Accuracy 0.909   , Loss: 0.276\n",
      "Epoch 28, CIFAR-10 Batch 2:  Validation Accuracy: 0.74    , Train Accuracy 0.912   , Loss: 0.289\n",
      "Epoch 28, CIFAR-10 Batch 3:  Validation Accuracy: 0.725   , Train Accuracy 0.922   , Loss: 0.306\n",
      "Epoch 28, CIFAR-10 Batch 4:  Validation Accuracy: 0.725   , Train Accuracy 0.929   , Loss: 0.262\n",
      "Epoch 28, CIFAR-10 Batch 5:  Validation Accuracy: 0.727   , Train Accuracy 0.953   , Loss: 0.233\n",
      "Epoch 29, CIFAR-10 Batch 1:  Validation Accuracy: 0.739   , Train Accuracy 0.929   , Loss: 0.248\n",
      "Epoch 29, CIFAR-10 Batch 2:  Validation Accuracy: 0.744   , Train Accuracy 0.943   , Loss: 0.253\n",
      "Epoch 29, CIFAR-10 Batch 3:  Validation Accuracy: 0.736   , Train Accuracy 0.919   , Loss: 0.267\n",
      "Epoch 29, CIFAR-10 Batch 4:  Validation Accuracy: 0.737   , Train Accuracy 0.949   , Loss: 0.232\n",
      "Epoch 29, CIFAR-10 Batch 5:  Validation Accuracy: 0.733   , Train Accuracy 0.953   , Loss: 0.222\n",
      "Epoch 30, CIFAR-10 Batch 1:  Validation Accuracy: 0.733   , Train Accuracy 0.932   , Loss: 0.257\n",
      "Epoch 30, CIFAR-10 Batch 2:  Validation Accuracy: 0.737   , Train Accuracy 0.919   , Loss: 0.3  \n",
      "Epoch 30, CIFAR-10 Batch 3:  Validation Accuracy: 0.729   , Train Accuracy 0.926   , Loss: 0.282\n",
      "Epoch 30, CIFAR-10 Batch 4:  Validation Accuracy: 0.738   , Train Accuracy 0.943   , Loss: 0.242\n",
      "Epoch 30, CIFAR-10 Batch 5:  Validation Accuracy: 0.734   , Train Accuracy 0.966   , Loss: 0.21 \n",
      "Epoch 31, CIFAR-10 Batch 1:  Validation Accuracy: 0.738   , Train Accuracy 0.936   , Loss: 0.259\n",
      "Epoch 31, CIFAR-10 Batch 2:  Validation Accuracy: 0.74    , Train Accuracy 0.949   , Loss: 0.261\n",
      "Epoch 31, CIFAR-10 Batch 3:  Validation Accuracy: 0.742   , Train Accuracy 0.939   , Loss: 0.234\n",
      "Epoch 31, CIFAR-10 Batch 4:  Validation Accuracy: 0.736   , Train Accuracy 0.939   , Loss: 0.238\n",
      "Epoch 31, CIFAR-10 Batch 5:  Validation Accuracy: 0.734   , Train Accuracy 0.953   , Loss: 0.197\n",
      "Epoch 32, CIFAR-10 Batch 1:  Validation Accuracy: 0.741   , Train Accuracy 0.949   , Loss: 0.226\n",
      "Epoch 32, CIFAR-10 Batch 2:  Validation Accuracy: 0.733   , Train Accuracy 0.943   , Loss: 0.247\n",
      "Epoch 32, CIFAR-10 Batch 3:  Validation Accuracy: 0.737   , Train Accuracy 0.949   , Loss: 0.234\n",
      "Epoch 32, CIFAR-10 Batch 4:  Validation Accuracy: 0.741   , Train Accuracy 0.943   , Loss: 0.212\n",
      "Epoch 32, CIFAR-10 Batch 5:  Validation Accuracy: 0.744   , Train Accuracy 0.973   , Loss: 0.186\n",
      "Epoch 33, CIFAR-10 Batch 1:  Validation Accuracy: 0.737   , Train Accuracy 0.936   , Loss: 0.24 \n",
      "Epoch 33, CIFAR-10 Batch 2:  Validation Accuracy: 0.744   , Train Accuracy 0.949   , Loss: 0.225\n",
      "Epoch 33, CIFAR-10 Batch 3:  Validation Accuracy: 0.737   , Train Accuracy 0.949   , Loss: 0.205\n",
      "Epoch 33, CIFAR-10 Batch 4:  Validation Accuracy: 0.742   , Train Accuracy 0.956   , Loss: 0.196\n",
      "Epoch 33, CIFAR-10 Batch 5:  Validation Accuracy: 0.746   , Train Accuracy 0.973   , Loss: 0.165\n",
      "Epoch 34, CIFAR-10 Batch 1:  Validation Accuracy: 0.738   , Train Accuracy 0.946   , Loss: 0.234\n",
      "Epoch 34, CIFAR-10 Batch 2:  Validation Accuracy: 0.743   , Train Accuracy 0.956   , Loss: 0.209\n",
      "Epoch 34, CIFAR-10 Batch 3:  Validation Accuracy: 0.737   , Train Accuracy 0.932   , Loss: 0.221\n",
      "Epoch 34, CIFAR-10 Batch 4:  Validation Accuracy: 0.742   , Train Accuracy 0.959   , Loss: 0.189\n",
      "Epoch 34, CIFAR-10 Batch 5:  Validation Accuracy: 0.744   , Train Accuracy 0.973   , Loss: 0.155\n",
      "Epoch 35, CIFAR-10 Batch 1:  Validation Accuracy: 0.743   , Train Accuracy 0.936   , Loss: 0.197\n",
      "Epoch 35, CIFAR-10 Batch 2:  Validation Accuracy: 0.743   , Train Accuracy 0.946   , Loss: 0.221\n",
      "Epoch 35, CIFAR-10 Batch 3:  Validation Accuracy: 0.732   , Train Accuracy 0.943   , Loss: 0.214\n",
      "Epoch 35, CIFAR-10 Batch 4:  Validation Accuracy: 0.742   , Train Accuracy 0.963   , Loss: 0.187\n",
      "Epoch 35, CIFAR-10 Batch 5:  Validation Accuracy: 0.744   , Train Accuracy 0.983   , Loss: 0.157\n",
      "Epoch 36, CIFAR-10 Batch 1:  Validation Accuracy: 0.742   , Train Accuracy 0.936   , Loss: 0.22 \n",
      "Epoch 36, CIFAR-10 Batch 2:  Validation Accuracy: 0.739   , Train Accuracy 0.956   , Loss: 0.204\n",
      "Epoch 36, CIFAR-10 Batch 3:  Validation Accuracy: 0.731   , Train Accuracy 0.956   , Loss: 0.199\n",
      "Epoch 36, CIFAR-10 Batch 4:  Validation Accuracy: 0.737   , Train Accuracy 0.976   , Loss: 0.164\n",
      "Epoch 36, CIFAR-10 Batch 5:  Validation Accuracy: 0.747   , Train Accuracy 0.976   , Loss: 0.155\n",
      "Epoch 37, CIFAR-10 Batch 1:  Validation Accuracy: 0.747   , Train Accuracy 0.959   , Loss: 0.178\n",
      "Epoch 37, CIFAR-10 Batch 2:  Validation Accuracy: 0.74    , Train Accuracy 0.943   , Loss: 0.195\n",
      "Epoch 37, CIFAR-10 Batch 3:  Validation Accuracy: 0.734   , Train Accuracy 0.943   , Loss: 0.202\n",
      "Epoch 37, CIFAR-10 Batch 4:  Validation Accuracy: 0.743   , Train Accuracy 0.976   , Loss: 0.16 \n",
      "Epoch 37, CIFAR-10 Batch 5:  Validation Accuracy: 0.748   , Train Accuracy 0.976   , Loss: 0.142\n",
      "Epoch 38, CIFAR-10 Batch 1:  Validation Accuracy: 0.744   , Train Accuracy 0.956   , Loss: 0.18 \n",
      "Epoch 38, CIFAR-10 Batch 2:  Validation Accuracy: 0.741   , Train Accuracy 0.97    , Loss: 0.171\n",
      "Epoch 38, CIFAR-10 Batch 3:  Validation Accuracy: 0.744   , Train Accuracy 0.966   , Loss: 0.178\n",
      "Epoch 38, CIFAR-10 Batch 4:  Validation Accuracy: 0.736   , Train Accuracy 0.963   , Loss: 0.174\n",
      "Epoch 38, CIFAR-10 Batch 5:  Validation Accuracy: 0.748   , Train Accuracy 0.986   , Loss: 0.131\n",
      "Epoch 39, CIFAR-10 Batch 1:  Validation Accuracy: 0.744   , Train Accuracy 0.959   , Loss: 0.17 \n",
      "Epoch 39, CIFAR-10 Batch 2:  Validation Accuracy: 0.744   , Train Accuracy 0.97    , Loss: 0.16 \n",
      "Epoch 39, CIFAR-10 Batch 3:  Validation Accuracy: 0.733   , Train Accuracy 0.97    , Loss: 0.154\n",
      "Epoch 39, CIFAR-10 Batch 4:  Validation Accuracy: 0.745   , Train Accuracy 0.959   , Loss: 0.156\n",
      "Epoch 39, CIFAR-10 Batch 5:  Validation Accuracy: 0.747   , Train Accuracy 0.973   , Loss: 0.135\n",
      "Epoch 40, CIFAR-10 Batch 1:  Validation Accuracy: 0.75    , Train Accuracy 0.949   , Loss: 0.165\n",
      "Epoch 40, CIFAR-10 Batch 2:  Validation Accuracy: 0.745   , Train Accuracy 0.973   , Loss: 0.138\n",
      "Epoch 40, CIFAR-10 Batch 3:  Validation Accuracy: 0.732   , Train Accuracy 0.959   , Loss: 0.16 \n",
      "Epoch 40, CIFAR-10 Batch 4:  Validation Accuracy: 0.736   , Train Accuracy 0.97    , Loss: 0.151\n",
      "Epoch 40, CIFAR-10 Batch 5:  Validation Accuracy: 0.742   , Train Accuracy 0.983   , Loss: 0.127\n",
      "Epoch 41, CIFAR-10 Batch 1:  Validation Accuracy: 0.754   , Train Accuracy 0.963   , Loss: 0.151\n",
      "Epoch 41, CIFAR-10 Batch 2:  Validation Accuracy: 0.738   , Train Accuracy 0.97    , Loss: 0.167\n",
      "Epoch 41, CIFAR-10 Batch 3:  Validation Accuracy: 0.737   , Train Accuracy 0.97    , Loss: 0.153\n",
      "Epoch 41, CIFAR-10 Batch 4:  Validation Accuracy: 0.733   , Train Accuracy 0.966   , Loss: 0.147\n",
      "Epoch 41, CIFAR-10 Batch 5:  Validation Accuracy: 0.747   , Train Accuracy 0.986   , Loss: 0.12 \n",
      "Epoch 42, CIFAR-10 Batch 1:  Validation Accuracy: 0.746   , Train Accuracy 0.983   , Loss: 0.144\n",
      "Epoch 42, CIFAR-10 Batch 2:  Validation Accuracy: 0.744   , Train Accuracy 0.97    , Loss: 0.146\n",
      "Epoch 42, CIFAR-10 Batch 3:  Validation Accuracy: 0.743   , Train Accuracy 0.97    , Loss: 0.136\n",
      "Epoch 42, CIFAR-10 Batch 4:  Validation Accuracy: 0.738   , Train Accuracy 0.973   , Loss: 0.141\n",
      "Epoch 42, CIFAR-10 Batch 5:  Validation Accuracy: 0.746   , Train Accuracy 0.997   , Loss: 0.112\n",
      "Epoch 43, CIFAR-10 Batch 1:  Validation Accuracy: 0.743   , Train Accuracy 0.983   , Loss: 0.134\n",
      "Epoch 43, CIFAR-10 Batch 2:  Validation Accuracy: 0.742   , Train Accuracy 0.983   , Loss: 0.136\n",
      "Epoch 43, CIFAR-10 Batch 3:  Validation Accuracy: 0.74    , Train Accuracy 0.97    , Loss: 0.133\n",
      "Epoch 43, CIFAR-10 Batch 4:  Validation Accuracy: 0.743   , Train Accuracy 0.973   , Loss: 0.13 \n",
      "Epoch 43, CIFAR-10 Batch 5:  Validation Accuracy: 0.748   , Train Accuracy 0.993   , Loss: 0.104\n",
      "Epoch 44, CIFAR-10 Batch 1:  Validation Accuracy: 0.742   , Train Accuracy 0.97    , Loss: 0.131\n",
      "Epoch 44, CIFAR-10 Batch 2:  Validation Accuracy: 0.744   , Train Accuracy 0.983   , Loss: 0.128\n",
      "Epoch 44, CIFAR-10 Batch 3:  Validation Accuracy: 0.744   , Train Accuracy 0.959   , Loss: 0.132\n",
      "Epoch 44, CIFAR-10 Batch 4:  Validation Accuracy: 0.746   , Train Accuracy 0.986   , Loss: 0.108\n",
      "Epoch 44, CIFAR-10 Batch 5:  Validation Accuracy: 0.74    , Train Accuracy 0.997   , Loss: 0.0992\n",
      "Epoch 45, CIFAR-10 Batch 1:  Validation Accuracy: 0.744   , Train Accuracy 0.986   , Loss: 0.12 \n",
      "Epoch 45, CIFAR-10 Batch 2:  Validation Accuracy: 0.736   , Train Accuracy 0.976   , Loss: 0.133\n",
      "Epoch 45, CIFAR-10 Batch 3:  Validation Accuracy: 0.742   , Train Accuracy 0.973   , Loss: 0.109\n",
      "Epoch 45, CIFAR-10 Batch 4:  Validation Accuracy: 0.736   , Train Accuracy 0.956   , Loss: 0.136\n",
      "Epoch 45, CIFAR-10 Batch 5:  Validation Accuracy: 0.741   , Train Accuracy 0.986   , Loss: 0.107\n",
      "Epoch 46, CIFAR-10 Batch 1:  Validation Accuracy: 0.74    , Train Accuracy 0.97    , Loss: 0.135\n",
      "Epoch 46, CIFAR-10 Batch 2:  Validation Accuracy: 0.746   , Train Accuracy 0.983   , Loss: 0.119\n",
      "Epoch 46, CIFAR-10 Batch 3:  Validation Accuracy: 0.741   , Train Accuracy 0.973   , Loss: 0.114\n",
      "Epoch 46, CIFAR-10 Batch 4:  Validation Accuracy: 0.739   , Train Accuracy 0.983   , Loss: 0.112\n",
      "Epoch 46, CIFAR-10 Batch 5:  Validation Accuracy: 0.748   , Train Accuracy 0.99    , Loss: 0.0986\n",
      "Epoch 47, CIFAR-10 Batch 1:  Validation Accuracy: 0.744   , Train Accuracy 0.976   , Loss: 0.119\n",
      "Epoch 47, CIFAR-10 Batch 2:  Validation Accuracy: 0.738   , Train Accuracy 0.983   , Loss: 0.12 \n",
      "Epoch 47, CIFAR-10 Batch 3:  Validation Accuracy: 0.749   , Train Accuracy 0.976   , Loss: 0.104\n",
      "Epoch 47, CIFAR-10 Batch 4:  Validation Accuracy: 0.741   , Train Accuracy 0.973   , Loss: 0.112\n",
      "Epoch 47, CIFAR-10 Batch 5:  Validation Accuracy: 0.746   , Train Accuracy 0.997   , Loss: 0.0878\n",
      "Epoch 48, CIFAR-10 Batch 1:  Validation Accuracy: 0.739   , Train Accuracy 0.963   , Loss: 0.127\n",
      "Epoch 48, CIFAR-10 Batch 2:  Validation Accuracy: 0.743   , Train Accuracy 0.983   , Loss: 0.111\n",
      "Epoch 48, CIFAR-10 Batch 3:  Validation Accuracy: 0.748   , Train Accuracy 0.983   , Loss: 0.0976\n",
      "Epoch 48, CIFAR-10 Batch 4:  Validation Accuracy: 0.741   , Train Accuracy 0.99    , Loss: 0.104\n",
      "Epoch 48, CIFAR-10 Batch 5:  Validation Accuracy: 0.741   , Train Accuracy 0.993   , Loss: 0.0956\n",
      "Epoch 49, CIFAR-10 Batch 1:  Validation Accuracy: 0.734   , Train Accuracy 0.983   , Loss: 0.114\n",
      "Epoch 49, CIFAR-10 Batch 2:  Validation Accuracy: 0.738   , Train Accuracy 0.983   , Loss: 0.122\n",
      "Epoch 49, CIFAR-10 Batch 3:  Validation Accuracy: 0.737   , Train Accuracy 0.983   , Loss: 0.106\n",
      "Epoch 49, CIFAR-10 Batch 4:  Validation Accuracy: 0.742   , Train Accuracy 0.986   , Loss: 0.111\n",
      "Epoch 49, CIFAR-10 Batch 5:  Validation Accuracy: 0.735   , Train Accuracy 0.993   , Loss: 0.102\n",
      "Epoch 50, CIFAR-10 Batch 1:  Validation Accuracy: 0.732   , Train Accuracy 0.986   , Loss: 0.121\n",
      "Epoch 50, CIFAR-10 Batch 2:  Validation Accuracy: 0.738   , Train Accuracy 0.983   , Loss: 0.103\n",
      "Epoch 50, CIFAR-10 Batch 3:  Validation Accuracy: 0.734   , Train Accuracy 0.983   , Loss: 0.12 \n",
      "Epoch 50, CIFAR-10 Batch 4:  Validation Accuracy: 0.742   , Train Accuracy 0.983   , Loss: 0.102\n",
      "Epoch 50, CIFAR-10 Batch 5:  Validation Accuracy: 0.739   , Train Accuracy 0.997   , Loss: 0.0826\n"
     ]
    }
   ],
   "source": [
    "\"\"\"\n",
    "DON'T MODIFY ANYTHING IN THIS CELL\n",
    "\"\"\"\n",
    "save_model_path = './image_classification'\n",
    "\n",
    "print('Training...')\n",
    "with tf.Session() as sess:\n",
    "    # Initializing the variables\n",
    "    sess.run(tf.global_variables_initializer())\n",
    "    \n",
    "    # Training cycle\n",
    "    for epoch in range(epochs):\n",
    "        # Loop over all batches\n",
    "        n_batches = 5\n",
    "        for batch_i in range(1, n_batches + 1):\n",
    "            for batch_features, batch_labels in helper.load_preprocess_training_batch(batch_i, batch_size):\n",
    "                train_neural_network(sess, optimizer, keep_probability, batch_features, batch_labels)\n",
    "            print('Epoch {:>2}, CIFAR-10 Batch {}:  '.format(epoch + 1, batch_i), end='')\n",
    "            print_stats(sess, batch_features, batch_labels, cost, accuracy)\n",
    "            \n",
    "    # Save Model\n",
    "    saver = tf.train.Saver()\n",
    "    save_path = saver.save(sess, save_model_path)"
   ]
  },
  {
   "cell_type": "markdown",
   "metadata": {
    "deletable": true,
    "editable": true
   },
   "source": [
    "# Checkpoint\n",
    "The model has been saved to disk.\n",
    "## Test Model\n",
    "Test your model against the test dataset.  This will be your final accuracy. You should have an accuracy greater than 50%. If you don't, keep tweaking the model architecture and parameters."
   ]
  },
  {
   "cell_type": "code",
   "execution_count": 53,
   "metadata": {
    "collapsed": false,
    "deletable": true,
    "editable": true
   },
   "outputs": [
    {
     "name": "stdout",
     "output_type": "stream",
     "text": [
      "Testing Accuracy: 0.74423828125\n",
      "\n"
     ]
    },
    {
     "data": {
      "image/png": "[encoded data removed]",
      "text/plain": [
       "<matplotlib.figure.Figure at 0x7f90d14f7780>"
      ]
     },
     "metadata": {
      "image/png": {
       "height": 319,
       "width": 355
      }
     },
     "output_type": "display_data"
    }
   ],
   "source": [
    "\"\"\"\n",
    "DON'T MODIFY ANYTHING IN THIS CELL\n",
    "\"\"\"\n",
    "%matplotlib inline\n",
    "%config InlineBackend.figure_format = 'retina'\n",
    "\n",
    "import tensorflow as tf\n",
    "import pickle\n",
    "import helper\n",
    "import random\n",
    "\n",
    "# Set batch size if not already set\n",
    "try:\n",
    "    if batch_size:\n",
    "        pass\n",
    "except NameError:\n",
    "    batch_size = 64\n",
    "\n",
    "save_model_path = './image_classification'\n",
    "n_samples = 4\n",
    "top_n_predictions = 3\n",
    "\n",
    "def test_model():\n",
    "    \"\"\"\n",
    "    Test the saved model against the test dataset\n",
    "    \"\"\"\n",
    "\n",
    "    test_features, test_labels = pickle.load(open('preprocess_training.p', mode='rb'))\n",
    "    loaded_graph = tf.Graph()\n",
    "\n",
    "    with tf.Session(graph=loaded_graph) as sess:\n",
    "        # Load model\n",
    "        loader = tf.train.import_meta_graph(save_model_path + '.meta')\n",
    "        loader.restore(sess, save_model_path)\n",
    "\n",
    "        # Get Tensors from loaded model\n",
    "        loaded_x = loaded_graph.get_tensor_by_name('x:0')\n",
    "        loaded_y = loaded_graph.get_tensor_by_name('y:0')\n",
    "        loaded_keep_prob = loaded_graph.get_tensor_by_name('keep_prob:0')\n",
    "        loaded_logits = loaded_graph.get_tensor_by_name('logits:0')\n",
    "        loaded_acc = loaded_graph.get_tensor_by_name('accuracy:0')\n",
    "        \n",
    "        # Get accuracy in batches for memory limitations\n",
    "        test_batch_acc_total = 0\n",
    "        test_batch_count = 0\n",
    "        \n",
    "        for train_feature_batch, train_label_batch in helper.batch_features_labels(test_features, test_labels, batch_size):\n",
    "            test_batch_acc_total += sess.run(\n",
    "                loaded_acc,\n",
    "                feed_dict={loaded_x: train_feature_batch, loaded_y: train_label_batch, loaded_keep_prob: 1.0})\n",
    "            test_batch_count += 1\n",
    "\n",
    "        print('Testing Accuracy: {}\\n'.format(test_batch_acc_total/test_batch_count))\n",
    "\n",
    "        # Print Random Samples\n",
    "        random_test_features, random_test_labels = tuple(zip(*random.sample(list(zip(test_features, test_labels)), n_samples)))\n",
    "        random_test_predictions = sess.run(\n",
    "            tf.nn.top_k(tf.nn.softmax(loaded_logits), top_n_predictions),\n",
    "            feed_dict={loaded_x: random_test_features, loaded_y: random_test_labels, loaded_keep_prob: 1.0})\n",
    "        helper.display_image_predictions(random_test_features, random_test_labels, random_test_predictions)\n",
    "\n",
    "\n",
    "test_model()"
   ]
  },
  {
   "cell_type": "markdown",
   "metadata": {
    "deletable": true,
    "editable": true
   },
   "source": [
    "## Why 50-70% Accuracy?\n",
    "You might be wondering why you can't get an accuracy any higher. First things first, 50% isn't bad for a simple CNN.  Pure guessing would get you 10% accuracy. However, you might notice people are getting scores [well above 70%](http://rodrigob.github.io/are_we_there_yet/build/classification_datasets_results.html#43494641522d3130).  That's because we haven't taught you all there is to know about neural networks. We still need to cover a few more techniques.\n",
    "## Submitting This Project\n",
    "When submitting this project, make sure to run all the cells before saving the notebook.  Save the notebook file as \"dlnd_image_classification.ipynb\" and save it as a HTML file under \"File\" -> \"Download as\".  Include the \"helper.py\" and \"problem_unittests.py\" files in your submission."
   ]
  },
  {
   "cell_type": "code",
   "execution_count": null,
   "metadata": {
    "collapsed": true
   },
   "outputs": [],
   "source": []
  },
  {
   "cell_type": "code",
   "execution_count": null,
   "metadata": {
    "collapsed": true
   },
   "outputs": [],
   "source": []
  },
  {
   "cell_type": "code",
   "execution_count": null,
   "metadata": {
    "collapsed": true
   },
   "outputs": [],
   "source": []
  }
 ],
 "metadata": {
  "kernelspec": {
   "display_name": "Python 3",
   "language": "python",
   "name": "python3"
  },
  "language_info": {
   "codemirror_mode": {
    "name": "ipython",
    "version": 3
   },
   "file_extension": ".py",
   "mimetype": "text/x-python",
   "name": "python",
   "nbconvert_exporter": "python",
   "pygments_lexer": "ipython3",
   "version": "3.5.3"
  }
 },
 "nbformat": 4,
 "nbformat_minor": 0
}
